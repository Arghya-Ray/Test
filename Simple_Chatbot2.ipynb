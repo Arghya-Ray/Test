{
 "cells": [
  {
   "cell_type": "code",
   "execution_count": 8,
   "metadata": {
    "id": "6JRKDMb0mQGz"
   },
   "outputs": [],
   "source": [
    "#Reference: https://www.kdnuggets.com/2019/05/build-chatbot-python-nltk.html\n",
    "reflections = {\n",
    "  \"i am\"       : \"you are\",\n",
    "  \"i was\"      : \"you were\",\n",
    "  \"i\"          : \"you\",\n",
    "  \"i'm\"        : \"you are\",\n",
    "  \"i'd\"        : \"you would\",\n",
    "  \"i've\"       : \"you have\",\n",
    "  \"i'll\"       : \"you will\",\n",
    "  \"my\"         : \"your\",\n",
    "  \"you are\"    : \"I am\",\n",
    "  \"you were\"   : \"I was\",\n",
    "  \"you've\"     : \"I have\",\n",
    "  \"you'll\"     : \"I will\",\n",
    "  \"your\"       : \"my\",\n",
    "  \"yours\"      : \"mine\",\n",
    "  \"you\"        : \"me\",\n",
    "  \"me\"         : \"you\"\n",
    "}"
   ]
  },
  {
   "cell_type": "code",
   "execution_count": 9,
   "metadata": {
    "id": "ksXlIq__mW6F"
   },
   "outputs": [],
   "source": [
    "my_dummy_reflections= {\n",
    "    \"go\"     : \"gone\",\n",
    "    \"hello\"    : \"hey there\"\n",
    "}"
   ]
  },
  {
   "cell_type": "code",
   "execution_count": 10,
   "metadata": {},
   "outputs": [],
   "source": [
    "import datetime\n",
    "import json\n",
    "import hashlib\n",
    "from flask import Flask, jsonify"
   ]
  },
  {
   "cell_type": "code",
   "execution_count": 4,
   "metadata": {},
   "outputs": [],
   "source": [
    "app = Flask(__name__)"
   ]
  },
  {
   "cell_type": "code",
   "execution_count": 14,
   "metadata": {},
   "outputs": [],
   "source": [
    "@app.route('/open_Chatty', methods=['GET'])\n",
    "def open_Chatty():\n",
    "    print(\"Hi, I'm Chatty and I chat alot ;)\\nPlease type lowercase English language to start a conversation. Type quit to leave \") #default message at the start\n",
    "    chat = Chat(pairs, reflections)\n",
    "    #chat.converse()\n",
    "    #response = {\"Query: \", chat.converse()}\n",
    "    return jsonify(chat.converse()), 200"
   ]
  },
  {
   "cell_type": "code",
   "execution_count": null,
   "metadata": {},
   "outputs": [
    {
     "name": "stdout",
     "output_type": "stream",
     "text": [
      " * Serving Flask app '__main__'\n",
      " * Debug mode: off\n"
     ]
    },
    {
     "name": "stderr",
     "output_type": "stream",
     "text": [
      "WARNING: This is a development server. Do not use it in a production deployment. Use a production WSGI server instead.\n",
      " * Running on http://127.0.0.1:5000\n",
      "Press CTRL+C to quit\n",
      "127.0.0.1 - - [18/Jul/2024 17:22:46] \"GET / HTTP/1.1\" 404 -\n"
     ]
    },
    {
     "name": "stdout",
     "output_type": "stream",
     "text": [
      "Hi, I'm Chatty and I chat alot ;)\n",
      "Please type lowercase English language to start a conversation. Type quit to leave \n"
     ]
    },
    {
     "name": "stdin",
     "output_type": "stream",
     "text": [
      "> hello\n"
     ]
    },
    {
     "name": "stdout",
     "output_type": "stream",
     "text": [
      "Hey there\n"
     ]
    },
    {
     "name": "stdin",
     "output_type": "stream",
     "text": [
      "> quit\n"
     ]
    },
    {
     "name": "stderr",
     "output_type": "stream",
     "text": [
      "127.0.0.1 - - [18/Jul/2024 17:23:00] \"GET /open_Chatty HTTP/1.1\" 200 -\n"
     ]
    },
    {
     "name": "stdout",
     "output_type": "stream",
     "text": [
      "It was nice talking to you. See you soon :)\n",
      "Hi, I'm Chatty and I chat alot ;)\n",
      "Please type lowercase English language to start a conversation. Type quit to leave \n"
     ]
    },
    {
     "name": "stdin",
     "output_type": "stream",
     "text": [
      "> quit\n"
     ]
    },
    {
     "name": "stderr",
     "output_type": "stream",
     "text": [
      "127.0.0.1 - - [18/Jul/2024 17:23:04] \"GET /open_Chatty HTTP/1.1\" 200 -\n"
     ]
    },
    {
     "name": "stdout",
     "output_type": "stream",
     "text": [
      "It was nice talking to you. See you soon :)\n"
     ]
    }
   ],
   "source": [
    "app.run(host='127.0.0.1', port=5000)"
   ]
  },
  {
   "cell_type": "code",
   "execution_count": 5,
   "metadata": {
    "colab": {
     "base_uri": "https://localhost:8080/"
    },
    "id": "cd0yIh3rpmTK",
    "outputId": "0c5e170c-e57d-45aa-bc8a-d4161b322b3b"
   },
   "outputs": [],
   "source": [
    "from nltk.chat.util import Chat, reflections\n",
    "\n",
    "pairs = [\n",
    "    [\n",
    "        r\"my name is (.*)\",\n",
    "        [\"Hello %1, How are you today ?\",]\n",
    "    ],\n",
    "     [\n",
    "        r\"what is your name ?\",\n",
    "        [\"My name is Chatty and I'm a chatbot ?\",]\n",
    "    ],\n",
    "    [\n",
    "        r\"how are you ?\",\n",
    "        [\"I'm doing good\\nHow about You ?\",]\n",
    "    ],\n",
    "    [\n",
    "        r\"sorry (.*)\",\n",
    "        [\"Its alright\",\"Its OK, never mind\",]\n",
    "    ],\n",
    "    [\n",
    "        r\"i'm (.*) doing good\",\n",
    "        [\"Nice to hear that\",\"Alright :)\",]\n",
    "    ],\n",
    "    [\n",
    "        r\"hi|hey|hello\",\n",
    "        [\"Hello\", \"Hey there\",]\n",
    "    ],\n",
    "    [\n",
    "        r\"(.*) age?\",\n",
    "        [\"I'm a computer program dude\\nSeriously you are asking me this?\",]\n",
    "\n",
    "    ],\n",
    "    [\n",
    "        r\"what (.*) want ?\",\n",
    "        [\"Make me an offer I can't refuse\",]\n",
    "\n",
    "    ],\n",
    "    [\n",
    "        r\"(.*) created ?\",\n",
    "        [\"Arghya created me using Python \",\"top secret ;)\",]\n",
    "    ],\n",
    "    [\n",
    "        r\"(.*)Digital Marketing(.*)\",\n",
    "        [\"Philip Kotler defines digital marketing as “a form of direct marketing which links consumers with sellers electronically using interactive technologies like emails, websites, online forums and newsgroups, interactive television, mobile communications\",]\n",
    "],\n",
    "\n",
    "    [\n",
    "        r\"(.*)Remarketing(.*)\",\n",
    "        [\"Remarketing, also known as retargeting, is a very common and popular form of digital marketing in which marketers serve ads to users who have visited their website, or a specific web page, and who have or have not taken a specific action. It’s an effective way to target people who have already shown some interest in your business or brand.\",]\n",
    "    ],\n",
    "\n",
    "    [\n",
    "        r\"(.*)Web 1.0(.*)\",\n",
    "        [\"The first iteration of the web represents the web 1.0, which, according to Berners-Lee, is the “read-only web.” There was very little in the way of user interaction or content generation.\",]\n",
    "        ],\n",
    "    [\n",
    "        r\"(.*)Web 2.0(.*)\",\n",
    "        [\"Web 2.0, or the “read-write” web: Web 2.0 applications tend to interact much more with the end user.  \",]\n",
    "        ],\n",
    "    [\n",
    "        r\"(.*)Web 3.0(.*)\",\n",
    "        [\"Web 3.0:  By extrapolating Tim Berners-Lee’s explanations, web 3.0 is 'read-write-execute.' This is difficult to envision in its abstract form. To illustrate, consider semantic markup and web services.\",]\n",
    "        ],\n",
    "    [\n",
    "        r\"(.*)POEM framework in digital marketing(.*)\",\n",
    "        [\"The POEM framework is a marketing strategy used by digital marketing experts to formulate the social media marketing strategy, and it stands for Paid, Owned, and Earned Media. It is an approach used to promote a product or service and looks at how the right mix of media channels can attract more customers, deepen and strengthen relationships with existing customers, and push the business towards ultimate goals of growth and success. \",]\n",
    "        ],\n",
    "    [\n",
    "        r\"(.*)Paid Media(.*)\",\n",
    "        [\"Any medium that requires payment, falls under the category of paid media. Paid media is typically one of the quickest, most efficient, and easiest forms to track direct return on investment. But control of paid media is generally in the hands of the service provider. Example: Magazines, television commercials, radio announcements, PPC (pay-per-click) advertising, search engine marketing, and paid ads on Instagram and Facebook.\",]\n",
    "        ],\n",
    "    [\n",
    "        r\"(.*)owned Media(.*)\",\n",
    "        [\"It refers to any media channel that a brand controls and owns. One of the most common examples is websites, blogs, newsletters, social media pages (Instagram, Facebook, Twitter, etc), and podcasts owned by companies or brands. SEO optimization also falls under the bracket of owned media digital marketing tools.\",]\n",
    "        ],\n",
    "    [\n",
    "        r\"(.*)earned Media(.*)\",\n",
    "        [\"It refers to the exposure and recognition the brand receives as a result of other people talking about, mentioning the brand, or due to organic publicity and awareness. Earned media is technically the result of efforts put into owned media and paid media. Word-of-mouth marketing, press releases, publicity, brand awareness, and viral marketing are examples of earned media.\",]\n",
    "        ],\n",
    "    [\n",
    "        r\"(.*)strategies for paid media(.*)\",\n",
    "        [\"Paid media like Google AdWords, affiliate programs, web banners, sponsorships, etc. become more difficult when the distance between the paid placement and the revenue generating activity gets further apart based on time or steps. Here are five tactics to consider providing for your clients within paid media:Reporting and ROI tracking services,\tGoogle AdWords, Niche newsletter and site sponsorships, Paid product feeds , Contextual display campaigns in Google\",]\n",
    "        ],\n",
    "    [\n",
    "        r\"(.*)Google AdWords(.*)\",\n",
    "        [\"This is a paid Search. This is the default beginning media spend for many businesses. It can be effective if you have the entire package of campaign set-up, creative management, landing pages and conversion and reporting.\",]\n",
    "        ],\n",
    "    [\n",
    "        r\"(.*)few strategies for paid media(.*)\",\n",
    "        [\"Here are five tactics to consider helping the clients with for earned media: Content creation and curation, Search Engine Optimization, Social Media profile management and content syndication, Public relations and influencer marketing, Link building.\",]\n",
    "        ],\n",
    "    [\n",
    "        r\"(.*)link building(.*)\",\n",
    "        [\"While traditional link building is on the wane, helping your client identify content that would be compelling and helping them to syndicate the content can generate website referral traffic and hopefully links that will support the search engine optimization program. \",]\n",
    "        ],\n",
    "    [\n",
    "        r\"(.*)on-page optimization(.*)\",\n",
    "        [\"On-page SEO is the process of tweaking a page’s content, tags, and internal links to improve search visibility.so that it ranks in search engines and brings in new traffic. On-page SEO components include content elements, site architecture elements, and HTML elements. \",]\n",
    "        ],\n",
    "    [\n",
    "        r\"(.*)SEO(.*)\",\n",
    "        [\"SEO stands for search engine optimization. SEO practitioners optimize websites, web pages and content for the purposes of ranking higher in search engines, like Google. SEO is a set of practices designed to improve the appearance, positioning, and usefulness of multiple types of content in the organic search results. This content can include web pages, video media, images, local business listings, and other assets. \",]\n",
    "        ],\n",
    "    [\n",
    "        r\"(.*)Title tags(.*)\",\n",
    "        [\"Title tags are an HTML element that specifies the title of the webpage. A good title tag will help visitors (and Google) understand what the page is about. Title tags are shown in search engines like Google alongside the webpage’s meta description. They are usually one of the first things visitors see when scanning through the search results. \",]\n",
    "        ],\n",
    "    [\n",
    "        r\"(.*)Meta descriptions(.*)\",\n",
    "        [\"A meta description is an HTML attribute that describes what a webpage is about. They are shown by search engines like Google in their search results alongside the title tag to provide context about the webpage.\",]\n",
    "        ],\n",
    "    [\n",
    "        r\"(.*)geotagging(.*)\",\n",
    "        [\"This is used For Local Search. It may be a global economy, but most business is still done at a local level. Connect with the people in your neighbourhood by optimizing your on-page local SEO\",]\n",
    "        ],\n",
    "    [\n",
    "        r\"(.*)URL(.*)\",\n",
    "        [\"URL stands for uniform resource locator—it sounds complicated, but it’s the address of a website. Most web browsers will display the URL in the address bar when you visit a website. When it comes to SEO, there are small optimizations you can make to your URLs to make them more readable by search engines.\",]\n",
    "        ],\n",
    "    [\n",
    "        r\"(.*)Internal links(.*)\",\n",
    "        [\"An internal link is a hyperlink that links to an internal destination within the same website. They’re helpful for SEO as they can help signpost important content on your website to search engines like Google.\",]\n",
    "        ],\n",
    "    [\n",
    "        r\"(.*)role of Schema markup in On page optimization(.*)\",\n",
    "        [\"Schema markup helps search engines like Google understand information on a page in more detail. Google uses schema to show rich results—visually enhanced search results. For certain niches, like recipes, you need to use schema markup, as visitors expect to see visual results for this type of content.\",]\n",
    "        ],\n",
    "    [\n",
    "        r\"(.*)top techniques of on-page optimization(.*)\",\n",
    "        [\"Here are few strategies for on page optimization:Content relevance, content freshness, keywords, title tages, meta descriptions, geotagging, internal link, URLs, image, schema markup, site speed.\",]\n",
    "        ],\n",
    "    [\n",
    "        r\"(.*)extrernal links(.*)\",\n",
    "        [\"External links are links on your site that point to other sites. They’re important because they enhance user experience and build trust with your audience.\",]\n",
    "        ],\n",
    "    [\n",
    "        r\"(.*)\\\"white Hat SEO\\\"(.*)\",\n",
    "        [\"White Hat SEO refers that working within search engines’ terms of service to improve a site’s search engine results page (SERP) rankings while maintaining the integrity of your website and staying within the search engines’ terms of service. For Example: Offering quality content and services, Fast site loading times and mobile-friendliness, using descriptive, keyword-rich meta tags, making your site easy to navigate, etc.\",]\n",
    "        ],\n",
    "    [\n",
    "        r\"(.*)\\\"black hat SEO\\\"(.*)\",\n",
    "        [\"Black hat SEO refers to a set of practices that are used to increase a site or page’s rank in search engines through means that violate the search engine’s terms of service. The term \\“black hat\\” originated in Western movies to distinguish the \\“bad guys\\” from the \\“good guys,\\” who wore white hats (see white hat SEO). Recently, it’s been used more commonly to describe computer hackers, virus creators, and those who perform unethical actions with computers. For Example: Content Automation, Doorway Pages, Hidden Text or Links, Keyword Stuffing, Reporting a Competitor (or Negative SEO), etc.\",]\n",
    "    ],\n",
    "    [\n",
    "        r\"(.*)techniques(.*)in white hat SEO(.*)\",\n",
    "        [\"Techniques used: Research, Analysis, Re- writing of meta tags to be more appropriate, Improvement of content, Redesign web, Having Fast Page Loading Times, Prioritizing Mobile-Friendliness\",]\n",
    "    ],\n",
    "    [\n",
    "        r\"(.*)techniques(.*)in black hat SEO(.*)\",\n",
    "        [\"Black Hat Techniques in SEO are: Keyword Stuffing, Cloaking, Sneaky Redirects, Poor Quality Content, Paid Links, log Comment Spam\",]\n",
    "        ],\n",
    "    [\n",
    "        r\"(.*)cloaking mean(.*)\",\n",
    "        [\"Cloaking involves showing one piece of content to users and a different piece of content to search engines. Websites practicing black hat SEO will do this in order to make content rank for a variety of terms irrelevant to their content. Spam websites will often do this to try and avoid a search engine bot finding out the spam content they serve to users.\",]\n",
    "        ],\n",
    "    [\n",
    "        r\"(.*)keyword stuffing(.*)\",\n",
    "        [\"Keyword stuffing refers to the practice of filling your content with irrelevant keywords in an attempt to manipulate where the page ranks on search results pages. Adding multiple variations of keywords where they add no value creates a bad experience for users. It may also cause your page to rank for irrelevant queries.\",]\n",
    "        ],\n",
    "   \n",
    "    [\n",
    "        r\"quit\",\n",
    "        [\"BBye take care. See you soon :) \",\"It was nice talking to you. See you soon :)\"]\n",
    "]   \n",
    "    \n",
    "]\n",
    "\n",
    "#if __name__ == \"__main__\":\n",
    "#    chatty()"
   ]
  },
  {
   "cell_type": "code",
   "execution_count": null,
   "metadata": {},
   "outputs": [],
   "source": [
    "def chatty():\n",
    "    print(\"Hi, I'm Chatty and I chat alot ;)\\nPlease type lowercase English language to start a conversation. Type quit to leave \") #default message at the start\n",
    "    chat = Chat(pairs, reflections)\n",
    "    chat.converse()\n"
   ]
  },
  {
   "cell_type": "code",
   "execution_count": null,
   "metadata": {},
   "outputs": [],
   "source": []
  },
  {
   "cell_type": "code",
   "execution_count": null,
   "metadata": {},
   "outputs": [],
   "source": []
  },
  {
   "cell_type": "code",
   "execution_count": null,
   "metadata": {},
   "outputs": [],
   "source": []
  },
  {
   "cell_type": "code",
   "execution_count": null,
   "metadata": {},
   "outputs": [],
   "source": []
  }
 ],
 "metadata": {
  "colab": {
   "collapsed_sections": [],
   "name": "Simple Chatbot2.ipynb",
   "provenance": []
  },
  "kernelspec": {
   "display_name": "Python 3 (ipykernel)",
   "language": "python",
   "name": "python3"
  },
  "language_info": {
   "codemirror_mode": {
    "name": "ipython",
    "version": 3
   },
   "file_extension": ".py",
   "mimetype": "text/x-python",
   "name": "python",
   "nbconvert_exporter": "python",
   "pygments_lexer": "ipython3",
   "version": "3.11.7"
  }
 },
 "nbformat": 4,
 "nbformat_minor": 4
}
